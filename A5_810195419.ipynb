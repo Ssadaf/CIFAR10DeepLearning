{
  "nbformat": 4,
  "nbformat_minor": 0,
  "metadata": {
    "colab": {
      "name": "Untitled0.ipynb",
      "version": "0.3.2",
      "provenance": [],
      "collapsed_sections": []
    },
    "kernelspec": {
      "name": "python3",
      "display_name": "Python 3"
    },
    "accelerator": "GPU"
  },
  "cells": [
    {
      "cell_type": "code",
      "metadata": {
        "id": "ZfZklmC2wGQH",
        "colab_type": "code",
        "colab": {}
      },
      "source": [
        "import torch\n",
        "import time\n",
        "import numpy as np\n",
        "import matplotlib.pyplot as plt\n",
        "import torchvision.datasets as datasets\n",
        "import torch.nn as nn\n",
        "import torch.nn.functional as F\n",
        "import torch.optim as optim\n",
        "from torch.utils.data import DataLoader\n",
        "from torch.utils.data.sampler import SubsetRandomSampler\n",
        "from torchvision import transforms"
      ],
      "execution_count": 0,
      "outputs": []
    },
    {
      "cell_type": "code",
      "metadata": {
        "id": "xiuQxGJK5Zxu",
        "colab_type": "code",
        "colab": {}
      },
      "source": [
        "def initWeightsToZero(m):\n",
        "  if type(m) == nn.Linear:\n",
        "    m.bias.data.fill_(0)\n",
        "    m.weight.data.fill_(0)"
      ],
      "execution_count": 0,
      "outputs": []
    },
    {
      "cell_type": "code",
      "metadata": {
        "id": "qQYstl8jb5GX",
        "colab_type": "code",
        "colab": {}
      },
      "source": [
        "def evaluateNetwork(Net, normalize=False, batchSize=32, zeroWeight=False, learningRate=0.01, outputType=\"ephocText\", momentum_=0.9):\n",
        "\n",
        "  trans = [\n",
        "      transforms.ToTensor(), \n",
        "      transforms.Normalize((0.5, 0.5, 0.5), (0.5, 0.5, 0.5))    \n",
        "  ]\n",
        "  transform = transforms.Compose(trans if normalize else [trans[0]])\n",
        "  \n",
        "\n",
        "  cifar = datasets.CIFAR10(root=\"./data\", train=True, download=True, transform=transform)\n",
        "  cifarTestSet = datasets.CIFAR10(root=\"./data\", train=False, download=True, transform=transform)\n",
        "  \n",
        "  split = int(0.8 * len(cifar))\n",
        "  indexes = list(range(len(cifar)))\n",
        "  trainIndexes, validationIndexes = indexes[:split], indexes[split:]\n",
        "\n",
        "  # sampler objects\n",
        "  trainSampler = SubsetRandomSampler(trainIndexes)\n",
        "  validationSampler = SubsetRandomSampler(validationIndexes)\n",
        "\n",
        "  # iterator objects\n",
        "  trainLoader = DataLoader(cifar, batch_size=batchSize, sampler=trainSampler)\n",
        "  validationLoader = DataLoader(cifar, batch_size=batchSize, sampler=validationSampler)\n",
        "  testLoader = DataLoader(cifarTestSet, batch_size=batchSize)\n",
        "\n",
        "  classes = ('plane', 'car', 'bird', 'cat', 'deer', 'dog', 'frog', 'horse', 'ship', 'truck')\n",
        "  \n",
        "  # loss function\n",
        "  lossFunction = nn.CrossEntropyLoss()\n",
        "  \n",
        "  network = Net()\n",
        "  if(zeroWeight):\n",
        "    network.apply(initWeightsToZero)\n",
        "\n",
        "  # optimizer\n",
        "  optimizer = optim.SGD(network.parameters(), lr=learningRate, momentum=momentum_)\n",
        "  \n",
        "  start_time = time.time()\n",
        "  batchNum = 0\n",
        "  trainBatchLoss, batchNums = [], []\n",
        "  for epoch in range(5):\n",
        "    trainLoss, validLoss = [], []\n",
        "\n",
        "    ### Train\n",
        "    for data, target in trainLoader:\n",
        "        # zero the parameter gradients\n",
        "        optimizer.zero_grad()\n",
        "\n",
        "        # forward Propagation\n",
        "        output = network(data)\n",
        "\n",
        "        # compute loss\n",
        "        loss = lossFunction(output, target)\n",
        "\n",
        "        # back propagation\n",
        "        loss.backward()\n",
        "\n",
        "        # update parameters\n",
        "        optimizer.step()\n",
        "\n",
        "        trainLoss.append(loss.item())\n",
        "        \n",
        "        batchNum += 1\n",
        "        if((batchNum % 20) == 0 and outputType==\"batchPlot\"):\n",
        "          trainBatchLoss.append(np.mean(trainLoss))\n",
        "          batchNums.append(batchNum)\n",
        "          trainLoss = []\n",
        "\n",
        "    ### Validation\n",
        "    for data, target in validationLoader:\n",
        "\n",
        "        output = network(data)\n",
        "        loss = lossFunction(output, target)\n",
        "        validLoss.append(loss.item())\n",
        "    \n",
        "    if(outputType == \"ephocText\"):  \n",
        "      print(\"Epoch:\", epoch+1, \"|Training Loss: \", np.mean(trainLoss), \"|Validation Loss: \", np.mean(validLoss))\n",
        "    else:\n",
        "      print(\"Epoch:\", epoch+1, \"|Validation Loss: \", np.mean(validLoss))\n",
        "      \n",
        "\n",
        "  if(outputType==\"batchPlot\"):\n",
        "    plt.plot(batchNums, trainBatchLoss)\n",
        "    plt.xlabel(\"Batch Number\")\n",
        "    plt.ylabel(\"Train Loss\")\n",
        "    plt.show\n",
        "    \n",
        "  elapsedTime = time.time() - start_time\n",
        "  print(\"Training time:\", elapsedTime)\n",
        "  \n",
        "  ### Test\n",
        "  correct = 0\n",
        "  total = 0\n",
        "  with torch.no_grad():\n",
        "      for data, target in testLoader:\n",
        "\n",
        "          output = network(data)\n",
        "          _, predicted = torch.max(output.data, 1)\n",
        "          total += target.size(0)\n",
        "          correct += (predicted == target).sum().item()\n",
        "\n",
        "  print('Accuracy of the network on the test images: %d %%' % (100 * correct / total))"
      ],
      "execution_count": 0,
      "outputs": []
    },
    {
      "cell_type": "markdown",
      "metadata": {
        "id": "M_0QUyY8EWEB",
        "colab_type": "text"
      },
      "source": [
        "# 1)"
      ]
    },
    {
      "cell_type": "code",
      "metadata": {
        "id": "scK1D2dD5QEb",
        "colab_type": "code",
        "colab": {}
      },
      "source": [
        "  class Net1(nn.Module):\n",
        "\n",
        "      def __init__(self):\n",
        "          super(Net1, self).__init__()\n",
        "\n",
        "          self.conv1 = nn.Conv2d(in_channels=3, out_channels=16, kernel_size=3, padding=1)\n",
        "          self.conv2 = nn.Conv2d(in_channels=16, out_channels=32, kernel_size=3, padding=1)\n",
        "          self.conv3 = nn.Conv2d(in_channels=32, out_channels=64, kernel_size=3, padding=1)\n",
        "\n",
        "          self.pool = nn.MaxPool2d(kernel_size=2, stride=2) \n",
        "\n",
        "          self.linear1 = nn.Linear(64 * (4 * 4), 512)\n",
        "          self.linear2 = nn.Linear(512, 10)\n",
        "\n",
        "      def forward(self, x):\n",
        "          x = self.pool(F.relu(self.conv1(x)))\n",
        "          x = self.pool(F.relu(self.conv2(x)))\n",
        "          x = self.pool(F.relu(self.conv3(x)))\n",
        "\n",
        "          x = x.view(-1, 1024)  ## reshaping\n",
        "\n",
        "          x = F.relu(self.linear1(x))\n",
        "          x = self.linear2(x)\n",
        "          return x"
      ],
      "execution_count": 0,
      "outputs": []
    },
    {
      "cell_type": "markdown",
      "metadata": {
        "id": "JLJNXrEq9Rqt",
        "colab_type": "text"
      },
      "source": [
        "## Zero Weight Network"
      ]
    },
    {
      "cell_type": "code",
      "metadata": {
        "id": "R6NXybZO9UdH",
        "colab_type": "code",
        "outputId": "2c7d3cf6-c4ff-4585-ca5f-3485c69bf3f5",
        "colab": {
          "base_uri": "https://localhost:8080/",
          "height": 170
        }
      },
      "source": [
        "evaluateNetwork(Net=Net1, zeroWeight=True)"
      ],
      "execution_count": 8,
      "outputs": [
        {
          "output_type": "stream",
          "text": [
            "\r0it [00:00, ?it/s]"
          ],
          "name": "stderr"
        },
        {
          "output_type": "stream",
          "text": [
            "Downloading https://www.cs.toronto.edu/~kriz/cifar-10-python.tar.gz to ./data/cifar-10-python.tar.gz\n"
          ],
          "name": "stdout"
        },
        {
          "output_type": "stream",
          "text": [
            "100%|█████████▉| 170434560/170498071 [00:32<00:00, 4670545.55it/s]"
          ],
          "name": "stderr"
        },
        {
          "output_type": "stream",
          "text": [
            "Files already downloaded and verified\n"
          ],
          "name": "stdout"
        },
        {
          "output_type": "stream",
          "text": [
            "\r170500096it [00:50, 4670545.55it/s]                               "
          ],
          "name": "stderr"
        },
        {
          "output_type": "stream",
          "text": [
            "Epoch: 1 |Training Loss:  2.3034087516784667 |Validation Loss:  2.30338269300735\n",
            "Epoch: 2 |Training Loss:  2.303220442199707 |Validation Loss:  2.302892026048118\n",
            "Epoch: 3 |Training Loss:  2.3034199333190917 |Validation Loss:  2.303008378123323\n",
            "Epoch: 4 |Training Loss:  2.3033737691879272 |Validation Loss:  2.3028563394333226\n",
            "Epoch: 5 |Training Loss:  2.3032839889526366 |Validation Loss:  2.303188312548799\n",
            "Training time: 259.6043703556061\n",
            "Accuracy of the network on the test images: 10 %\n"
          ],
          "name": "stdout"
        }
      ]
    },
    {
      "cell_type": "markdown",
      "metadata": {
        "id": "CU8yzc4x7w9i",
        "colab_type": "text"
      },
      "source": [
        "## Network with Random Weights"
      ]
    },
    {
      "cell_type": "code",
      "metadata": {
        "id": "VbD75OsB7bdW",
        "colab_type": "code",
        "outputId": "eda0aed8-742a-4365-8db1-3750b9ac8c41",
        "colab": {
          "base_uri": "https://localhost:8080/",
          "height": 170
        }
      },
      "source": [
        "evaluateNetwork(Net=Net1)"
      ],
      "execution_count": 9,
      "outputs": [
        {
          "output_type": "stream",
          "text": [
            "Files already downloaded and verified\n",
            "Files already downloaded and verified\n",
            "Epoch: 1 |Training Loss:  1.8007492104530334 |Validation Loss:  1.4265289839845114\n",
            "Epoch: 2 |Training Loss:  1.3270365458488464 |Validation Loss:  1.2452350757754267\n",
            "Epoch: 3 |Training Loss:  1.1023916879177094 |Validation Loss:  1.0842122012814774\n",
            "Epoch: 4 |Training Loss:  0.9363559620857239 |Validation Loss:  1.0184609882366924\n",
            "Epoch: 5 |Training Loss:  0.8128979505062103 |Validation Loss:  0.9249930377014148\n",
            "Training time: 252.46883487701416\n",
            "Accuracy of the network on the test images: 67 %\n"
          ],
          "name": "stdout"
        }
      ]
    },
    {
      "cell_type": "markdown",
      "metadata": {
        "id": "7b4aF9dyiTHm",
        "colab_type": "text"
      },
      "source": [
        ""
      ]
    },
    {
      "cell_type": "markdown",
      "metadata": {
        "id": "Xl6GzVSkE2G_",
        "colab_type": "text"
      },
      "source": [
        "# 2) Two Layer Network"
      ]
    },
    {
      "cell_type": "code",
      "metadata": {
        "id": "KcKxOpkJFNza",
        "colab_type": "code",
        "colab": {}
      },
      "source": [
        "class Net2(nn.Module):\n",
        "\n",
        "    def __init__(self):\n",
        "        super(Net2, self).__init__()\n",
        "\n",
        "        self.conv1 = nn.Conv2d(in_channels=3, out_channels=16, kernel_size=5)\n",
        "        \n",
        "        self.pool = nn.MaxPool2d(2, 2) # kernel_size , stride\n",
        "\n",
        "        self.linear1 = nn.Linear(16 * (14 * 14), 10)\n",
        "        \n",
        "    def forward(self, x):\n",
        "        x = self.pool(F.relu(self.conv1(x)))\n",
        "        \n",
        "        x = x.view(-1, 16 * (14 * 14))  ## reshaping\n",
        "\n",
        "        x = self.linear1(x)\n",
        "        return x"
      ],
      "execution_count": 0,
      "outputs": []
    },
    {
      "cell_type": "code",
      "metadata": {
        "id": "vSacHNb57pjK",
        "colab_type": "code",
        "colab": {
          "base_uri": "https://localhost:8080/",
          "height": 170
        },
        "outputId": "8e72b523-13a7-4107-946b-19de82cedf23"
      },
      "source": [
        "evaluateNetwork(Net=Net2, learningRate=0.001)"
      ],
      "execution_count": 11,
      "outputs": [
        {
          "output_type": "stream",
          "text": [
            "Files already downloaded and verified\n",
            "Files already downloaded and verified\n",
            "Epoch: 1 |Training Loss:  1.9456928957939148 |Validation Loss:  1.7481653427544492\n",
            "Epoch: 2 |Training Loss:  1.634460257911682 |Validation Loss:  1.6082928980501314\n",
            "Epoch: 3 |Training Loss:  1.4786347235679627 |Validation Loss:  1.4454045404260532\n",
            "Epoch: 4 |Training Loss:  1.3906743395328522 |Validation Loss:  1.396009013485223\n",
            "Epoch: 5 |Training Loss:  1.3464128152370454 |Validation Loss:  1.3764929230601644\n",
            "Training time: 108.65905833244324\n",
            "Accuracy of the network on the test images: 52 %\n"
          ],
          "name": "stdout"
        }
      ]
    },
    {
      "cell_type": "markdown",
      "metadata": {
        "id": "DRDbg0-rZVep",
        "colab_type": "text"
      },
      "source": [
        "# 3) Network with Normalization"
      ]
    },
    {
      "cell_type": "code",
      "metadata": {
        "id": "-XeXoxap8YiW",
        "colab_type": "code",
        "colab": {
          "base_uri": "https://localhost:8080/",
          "height": 170
        },
        "outputId": "c81e6e21-2143-478b-9eb2-ebf1917515fe"
      },
      "source": [
        "evaluateNetwork(Net=Net1, normalize=True)"
      ],
      "execution_count": 15,
      "outputs": [
        {
          "output_type": "stream",
          "text": [
            "Files already downloaded and verified\n",
            "Files already downloaded and verified\n",
            "Epoch: 1 |Training Loss:  1.6318812184333802 |Validation Loss:  1.265738382507056\n",
            "Epoch: 2 |Training Loss:  1.1342535645961762 |Validation Loss:  1.0213625400591964\n",
            "Epoch: 3 |Training Loss:  0.9116428291082382 |Validation Loss:  0.8970799268053743\n",
            "Epoch: 4 |Training Loss:  0.767465466761589 |Validation Loss:  0.9254541628467389\n",
            "Epoch: 5 |Training Loss:  0.6541620981574059 |Validation Loss:  0.8615348025823173\n",
            "Training time: 274.42339992523193\n",
            "Accuracy of the network on the test images: 70 %\n"
          ],
          "name": "stdout"
        }
      ]
    },
    {
      "cell_type": "markdown",
      "metadata": {
        "id": "HloQlmQjyshQ",
        "colab_type": "text"
      },
      "source": [
        "# 4) Effect of Learning Rate on Network"
      ]
    },
    {
      "cell_type": "markdown",
      "metadata": {
        "id": "vHkeEuX2G25_",
        "colab_type": "text"
      },
      "source": [
        "### learning rate = 0.1"
      ]
    },
    {
      "cell_type": "code",
      "metadata": {
        "id": "Uy1V2yxTyu1Z",
        "colab_type": "code",
        "outputId": "7740f417-7436-4d23-d1fc-707785c41b99",
        "colab": {
          "base_uri": "https://localhost:8080/",
          "height": 436
        }
      },
      "source": [
        "evaluateNetwork(Net=Net1, normalize=True, learningRate=0.07, outputType=\"batchPlot\")"
      ],
      "execution_count": 28,
      "outputs": [
        {
          "output_type": "stream",
          "text": [
            "Files already downloaded and verified\n",
            "Files already downloaded and verified\n",
            "Epoch: 1 |Validation Loss:  1.7008870725814527\n",
            "Epoch: 2 |Validation Loss:  1.6820313820061974\n",
            "Epoch: 3 |Validation Loss:  1.7564301814514989\n",
            "Epoch: 4 |Validation Loss:  1.766878911862358\n",
            "Epoch: 5 |Validation Loss:  1.7785784684050197\n",
            "Training time: 262.58147072792053\n",
            "Accuracy of the network on the test images: 35 %\n"
          ],
          "name": "stdout"
        },
        {
          "output_type": "display_data",
          "data": {
            "image/png": "[encoded data removed]",
            "text/plain": [
              "<Figure size 432x288 with 1 Axes>"
            ]
          },
          "metadata": {
            "tags": []
          }
        }
      ]
    },
    {
      "cell_type": "markdown",
      "metadata": {
        "id": "gq90hp3wG8Aj",
        "colab_type": "text"
      },
      "source": [
        "### learning rate = 0.01"
      ]
    },
    {
      "cell_type": "code",
      "metadata": {
        "id": "Ql8LU4zhG2Ol",
        "colab_type": "code",
        "outputId": "4b53ae19-3c34-45cc-aa18-850ae3474eb6",
        "colab": {
          "base_uri": "https://localhost:8080/",
          "height": 436
        }
      },
      "source": [
        "evaluateNetwork(Net=Net1, normalize=True, learningRate=0.01, outputType=\"batchPlot\")"
      ],
      "execution_count": 21,
      "outputs": [
        {
          "output_type": "stream",
          "text": [
            "Files already downloaded and verified\n",
            "Files already downloaded and verified\n",
            "Epoch: 1 |Validation Loss:  1.3052531023756764\n",
            "Epoch: 2 |Validation Loss:  1.0275526244800313\n",
            "Epoch: 3 |Validation Loss:  0.9210575520992279\n",
            "Epoch: 4 |Validation Loss:  0.8568399248603052\n",
            "Epoch: 5 |Validation Loss:  0.8584645741378156\n",
            "Training time: 271.0380771160126\n",
            "Accuracy of the network on the test images: 70 %\n"
          ],
          "name": "stdout"
        },
        {
          "output_type": "display_data",
          "data": {
            "image/png": "[encoded data removed]",
            "text/plain": [
              "<Figure size 432x288 with 1 Axes>"
            ]
          },
          "metadata": {
            "tags": []
          }
        }
      ]
    },
    {
      "cell_type": "markdown",
      "metadata": {
        "id": "wPoTEL4BHC2C",
        "colab_type": "text"
      },
      "source": [
        "### learning rate = 0.0001"
      ]
    },
    {
      "cell_type": "code",
      "metadata": {
        "id": "J9IOuvCDHPJI",
        "colab_type": "code",
        "outputId": "d4d29ea8-808f-4a6c-97b6-2cb87bdf66a0",
        "colab": {
          "base_uri": "https://localhost:8080/",
          "height": 436
        }
      },
      "source": [
        "evaluateNetwork(Net=Net1, normalize=True, learningRate=0.0001, outputType=\"batchPlot\")"
      ],
      "execution_count": 22,
      "outputs": [
        {
          "output_type": "stream",
          "text": [
            "Files already downloaded and verified\n",
            "Files already downloaded and verified\n",
            "Epoch: 1 |Validation Loss:  2.2988300582471366\n",
            "Epoch: 2 |Validation Loss:  2.293507007745127\n",
            "Epoch: 3 |Validation Loss:  2.2846795370022708\n",
            "Epoch: 4 |Validation Loss:  2.2658587438991655\n",
            "Epoch: 5 |Validation Loss:  2.2146633547335006\n",
            "Training time: 272.2673370838165\n",
            "Accuracy of the network on the test images: 22 %\n"
          ],
          "name": "stdout"
        },
        {
          "output_type": "display_data",
          "data": {
            "image/png": "[encoded data removed]",
            "text/plain": [
              "<Figure size 432x288 with 1 Axes>"
            ]
          },
          "metadata": {
            "tags": []
          }
        }
      ]
    },
    {
      "cell_type": "markdown",
      "metadata": {
        "id": "l1NiyB6qH2aQ",
        "colab_type": "text"
      },
      "source": [
        "# 5) Effect of Batch Size on Network"
      ]
    },
    {
      "cell_type": "markdown",
      "metadata": {
        "id": "HuVbm7JOIa1A",
        "colab_type": "text"
      },
      "source": [
        "### batch size = 64"
      ]
    },
    {
      "cell_type": "code",
      "metadata": {
        "id": "t3F297URTTX-",
        "colab_type": "code",
        "colab": {
          "base_uri": "https://localhost:8080/",
          "height": 170
        },
        "outputId": "ec3c0dd3-3e39-45b3-fba1-089194d66559"
      },
      "source": [
        "evaluateNetwork(Net=Net1, normalize=True, batchSize=64)"
      ],
      "execution_count": 31,
      "outputs": [
        {
          "output_type": "stream",
          "text": [
            "Files already downloaded and verified\n",
            "Files already downloaded and verified\n",
            "Epoch: 1 |Training Loss:  1.7889031579971313 |Validation Loss:  1.422423954981907\n",
            "Epoch: 2 |Training Loss:  1.2913023562431336 |Validation Loss:  1.1905038702260158\n",
            "Epoch: 3 |Training Loss:  1.0531460809707642 |Validation Loss:  1.0341583475185807\n",
            "Epoch: 4 |Training Loss:  0.9085641683578491 |Validation Loss:  0.9357685572022845\n",
            "Epoch: 5 |Training Loss:  0.7908004652500152 |Validation Loss:  0.8493366108578482\n",
            "Training time: 250.8223271369934\n",
            "Accuracy of the network on the test images: 70 %\n"
          ],
          "name": "stdout"
        }
      ]
    },
    {
      "cell_type": "code",
      "metadata": {
        "id": "JF_P_BRsH7V1",
        "colab_type": "code",
        "colab": {
          "base_uri": "https://localhost:8080/",
          "height": 170
        },
        "outputId": "a8557908-9926-4239-85a0-c5189d0ada9b"
      },
      "source": [
        "evaluateNetwork(Net=Net1, normalize=True, batchSize=64, learningRate=0.05)"
      ],
      "execution_count": 34,
      "outputs": [
        {
          "output_type": "stream",
          "text": [
            "Files already downloaded and verified\n",
            "Files already downloaded and verified\n",
            "Epoch: 1 |Training Loss:  1.5896427129745483 |Validation Loss:  1.257612699156354\n",
            "Epoch: 2 |Training Loss:  1.163565060043335 |Validation Loss:  1.1294949309081788\n",
            "Epoch: 3 |Training Loss:  1.0276961307525634 |Validation Loss:  1.0557689552853822\n",
            "Epoch: 4 |Training Loss:  0.9302632021427154 |Validation Loss:  1.0688918582193412\n",
            "Epoch: 5 |Training Loss:  0.8714286916255951 |Validation Loss:  1.171356332529882\n",
            "Training time: 245.6736147403717\n",
            "Accuracy of the network on the test images: 61 %\n"
          ],
          "name": "stdout"
        }
      ]
    },
    {
      "cell_type": "markdown",
      "metadata": {
        "id": "_snZtjvhIiPb",
        "colab_type": "text"
      },
      "source": [
        "### batch size = 256"
      ]
    },
    {
      "cell_type": "code",
      "metadata": {
        "id": "H1HDaN65TXdA",
        "colab_type": "code",
        "colab": {
          "base_uri": "https://localhost:8080/",
          "height": 170
        },
        "outputId": "acfddf58-02b9-413c-ddd0-29c3c3c3320f"
      },
      "source": [
        "evaluateNetwork(Net=Net1, normalize=True, batchSize=256)"
      ],
      "execution_count": 32,
      "outputs": [
        {
          "output_type": "stream",
          "text": [
            "Files already downloaded and verified\n",
            "Files already downloaded and verified\n",
            "Epoch: 1 |Training Loss:  2.191500560493226 |Validation Loss:  1.9633248269557952\n",
            "Epoch: 2 |Training Loss:  1.7911584028013192 |Validation Loss:  1.6461790055036545\n",
            "Epoch: 3 |Training Loss:  1.5512089304103973 |Validation Loss:  1.4917387455701827\n",
            "Epoch: 4 |Training Loss:  1.3945331786088884 |Validation Loss:  1.4139004230499268\n",
            "Epoch: 5 |Training Loss:  1.275004750604083 |Validation Loss:  1.222489106655121\n",
            "Training time: 236.6599543094635\n",
            "Accuracy of the network on the test images: 56 %\n"
          ],
          "name": "stdout"
        }
      ]
    },
    {
      "cell_type": "code",
      "metadata": {
        "id": "X20c8e7PIl6x",
        "colab_type": "code",
        "colab": {
          "base_uri": "https://localhost:8080/",
          "height": 170
        },
        "outputId": "27700dd2-cac8-415e-e9f6-963695501fad"
      },
      "source": [
        "evaluateNetwork(Net=Net1, normalize=True, batchSize=256, learningRate=0.1)"
      ],
      "execution_count": 30,
      "outputs": [
        {
          "output_type": "stream",
          "text": [
            "Files already downloaded and verified\n",
            "Files already downloaded and verified\n",
            "Epoch: 1 |Training Loss:  1.802912678688195 |Validation Loss:  1.3426841378211976\n",
            "Epoch: 2 |Training Loss:  1.2493421849171826 |Validation Loss:  1.1454534500837326\n",
            "Epoch: 3 |Training Loss:  1.0586192262400487 |Validation Loss:  1.0731780290603639\n",
            "Epoch: 4 |Training Loss:  0.9040429352954694 |Validation Loss:  1.0075796008110047\n",
            "Epoch: 5 |Training Loss:  0.7724812983707258 |Validation Loss:  0.9266105845570565\n",
            "Training time: 229.06286644935608\n",
            "Accuracy of the network on the test images: 68 %\n"
          ],
          "name": "stdout"
        }
      ]
    },
    {
      "cell_type": "markdown",
      "metadata": {
        "id": "ExINcqmDRs0h",
        "colab_type": "text"
      },
      "source": [
        "# 6) Different Activation Functions"
      ]
    },
    {
      "cell_type": "markdown",
      "metadata": {
        "id": "XQMOEzx4SrUs",
        "colab_type": "text"
      },
      "source": [
        "### tanh"
      ]
    },
    {
      "cell_type": "code",
      "metadata": {
        "id": "S8wMdbtcdcPT",
        "colab_type": "code",
        "colab": {}
      },
      "source": [
        "class Net_tanh(nn.Module):\n",
        "\n",
        "    def __init__(self):\n",
        "        super(Net_leakyRelu, self).__init__()\n",
        "\n",
        "        self.conv1 = nn.Conv2d(in_channels=3, out_channels=16, kernel_size=3, padding=1)\n",
        "        self.conv2 = nn.Conv2d(in_channels=16, out_channels=32, kernel_size=3, padding=1)\n",
        "        self.conv3 = nn.Conv2d(in_channels=32, out_channels=64, kernel_size=3, padding=1)\n",
        "\n",
        "        self.pool = nn.MaxPool2d(kernel_size=2, stride=2) \n",
        "\n",
        "        self.linear1 = nn.Linear(64 * (4 * 4), 512)\n",
        "        self.linear2 = nn.Linear(512, 10)\n",
        "\n",
        "    def forward(self, x):\n",
        "        x = self.pool(F.leaky_relu(self.conv1(x)))\n",
        "        x = self.pool(F.leaky_relu(self.conv2(x)))\n",
        "        x = self.pool(F.leaky_relu(self.conv3(x)))\n",
        "\n",
        "        x = x.view(-1, 1024)  ## reshaping\n",
        "\n",
        "        x = F.leaky_relu(self.linear1(x))\n",
        "        x = self.linear2(x)\n",
        "        return x"
      ],
      "execution_count": 0,
      "outputs": []
    },
    {
      "cell_type": "code",
      "metadata": {
        "id": "N-0XeyJCSvuy",
        "colab_type": "code",
        "colab": {
          "base_uri": "https://localhost:8080/",
          "height": 170
        },
        "outputId": "04271099-a21b-4403-a6c0-093f11f25792"
      },
      "source": [
        "evaluateNetwork(Net=Net_ackFunc, normalize=True)"
      ],
      "execution_count": 64,
      "outputs": [
        {
          "output_type": "stream",
          "text": [
            "Files already downloaded and verified\n",
            "Files already downloaded and verified\n",
            "Epoch: 1 |Training Loss:  1.5954821367263794 |Validation Loss:  1.3095929436028575\n",
            "Epoch: 2 |Training Loss:  1.0940746612548828 |Validation Loss:  1.0159024099191538\n",
            "Epoch: 3 |Training Loss:  0.8947905774593353 |Validation Loss:  0.9190141938555355\n",
            "Epoch: 4 |Training Loss:  0.7533263073444366 |Validation Loss:  0.8514402927682042\n",
            "Epoch: 5 |Training Loss:  0.6467311169266701 |Validation Loss:  0.9040699112720002\n",
            "Training time: 268.95976734161377\n",
            "Accuracy of the network on the test images: 69 %\n"
          ],
          "name": "stdout"
        }
      ]
    },
    {
      "cell_type": "markdown",
      "metadata": {
        "id": "QcKD3yAjQwBd",
        "colab_type": "text"
      },
      "source": [
        "### relu"
      ]
    },
    {
      "cell_type": "code",
      "metadata": {
        "id": "Tk12tp1XQyNo",
        "colab_type": "code",
        "colab": {
          "base_uri": "https://localhost:8080/",
          "height": 170
        },
        "outputId": "4d677052-128c-423a-c956-dd10e560fbaf"
      },
      "source": [
        "evaluateNetwork(Net=Net1, normalize=True)"
      ],
      "execution_count": 67,
      "outputs": [
        {
          "output_type": "stream",
          "text": [
            "Files already downloaded and verified\n",
            "Files already downloaded and verified\n",
            "Epoch: 1 |Training Loss:  1.6489029582500458 |Validation Loss:  1.2885131675976154\n",
            "Epoch: 2 |Training Loss:  1.141836962556839 |Validation Loss:  1.0233613999126057\n",
            "Epoch: 3 |Training Loss:  0.9366183966636658 |Validation Loss:  0.942835420465317\n",
            "Epoch: 4 |Training Loss:  0.7951607717514038 |Validation Loss:  0.8670361360993248\n",
            "Epoch: 5 |Training Loss:  0.6696334651947021 |Validation Loss:  0.8247657887661419\n",
            "Training time: 269.4092044830322\n",
            "Accuracy of the network on the test images: 70 %\n"
          ],
          "name": "stdout"
        }
      ]
    },
    {
      "cell_type": "markdown",
      "metadata": {
        "id": "6xbW6J2PeL0V",
        "colab_type": "text"
      },
      "source": [
        "### leakyrelu"
      ]
    },
    {
      "cell_type": "code",
      "metadata": {
        "id": "InZYWei5eWNW",
        "colab_type": "code",
        "colab": {}
      },
      "source": [
        "class Net_leakyRelu(nn.Module):\n",
        "\n",
        "    def __init__(self):\n",
        "        super(Net_leakyRelu, self).__init__()\n",
        "\n",
        "        self.conv1 = nn.Conv2d(in_channels=3, out_channels=16, kernel_size=3, padding=1)\n",
        "        self.conv2 = nn.Conv2d(in_channels=16, out_channels=32, kernel_size=3, padding=1)\n",
        "        self.conv3 = nn.Conv2d(in_channels=32, out_channels=64, kernel_size=3, padding=1)\n",
        "\n",
        "        self.pool = nn.MaxPool2d(kernel_size=2, stride=2) \n",
        "\n",
        "        self.linear1 = nn.Linear(64 * (4 * 4), 512)\n",
        "        self.linear2 = nn.Linear(512, 10)\n",
        "\n",
        "    def forward(self, x):\n",
        "        x = self.pool(F.leaky_relu(self.conv1(x)))\n",
        "        x = self.pool(F.leaky_relu(self.conv2(x)))\n",
        "        x = self.pool(F.leaky_relu(self.conv3(x)))\n",
        "\n",
        "        x = x.view(-1, 1024)  ## reshaping\n",
        "\n",
        "        x = F.leaky_relu(self.linear1(x))\n",
        "        x = self.linear2(x)\n",
        "        return x"
      ],
      "execution_count": 0,
      "outputs": []
    },
    {
      "cell_type": "code",
      "metadata": {
        "id": "cXgSsztOkcDt",
        "colab_type": "code",
        "colab": {
          "base_uri": "https://localhost:8080/",
          "height": 170
        },
        "outputId": "df29d163-4990-4ec6-bc6c-62f9d7985a40"
      },
      "source": [
        "evaluateNetwork(Net=Net_leakyRelu, normalize=True)"
      ],
      "execution_count": 49,
      "outputs": [
        {
          "output_type": "stream",
          "text": [
            "Files already downloaded and verified\n",
            "Files already downloaded and verified\n",
            "Epoch: 1 |Training Loss:  1.6585179952144622 |Validation Loss:  1.3472920557180532\n",
            "Epoch: 2 |Training Loss:  1.1499838267803193 |Validation Loss:  1.0545802619129705\n",
            "Epoch: 3 |Training Loss:  0.9314553303241729 |Validation Loss:  0.8723846346425553\n",
            "Epoch: 4 |Training Loss:  0.7814177124500274 |Validation Loss:  0.9007532088139567\n",
            "Epoch: 5 |Training Loss:  0.6613423487782478 |Validation Loss:  0.8623798191547394\n",
            "Training time: 315.2214798927307\n",
            "Accuracy of the network on the test images: 70 %\n"
          ],
          "name": "stdout"
        }
      ]
    },
    {
      "cell_type": "markdown",
      "metadata": {
        "id": "RWwrW1ICC9PQ",
        "colab_type": "text"
      },
      "source": [
        "### softplus"
      ]
    },
    {
      "cell_type": "code",
      "metadata": {
        "id": "Qt6-ZBWmDIh8",
        "colab_type": "code",
        "colab": {}
      },
      "source": [
        "class Net_softplus(nn.Module):\n",
        "    \n",
        "    def __init__(self):\n",
        "        super(Net_softplus, self).__init__()\n",
        "\n",
        "        self.conv1 = nn.Conv2d(in_channels=3, out_channels=16, kernel_size=3, padding=1)\n",
        "        self.conv2 = nn.Conv2d(in_channels=16, out_channels=32, kernel_size=3, padding=1)\n",
        "        self.conv3 = nn.Conv2d(in_channels=32, out_channels=64, kernel_size=3, padding=1)\n",
        "\n",
        "        self.pool = nn.MaxPool2d(kernel_size=2, stride=2) \n",
        "\n",
        "        self.linear1 = nn.Linear(64 * (4 * 4), 512)\n",
        "        self.linear2 = nn.Linear(512, 10)\n",
        "\n",
        "    def forward(self, x):\n",
        "        x = self.pool(F.softplus(self.conv1(x)))\n",
        "        x = self.pool(F.softplus(self.conv2(x)))\n",
        "        x = self.pool(F.softplus(self.conv3(x)))\n",
        "\n",
        "        x = x.view(-1, 1024)  ## reshaping\n",
        "\n",
        "        x = F.softplus(self.linear1(x))\n",
        "        x = self.linear2(x)\n",
        "        return x"
      ],
      "execution_count": 0,
      "outputs": []
    },
    {
      "cell_type": "code",
      "metadata": {
        "id": "Gqf0vgSTOOc7",
        "colab_type": "code",
        "colab": {
          "base_uri": "https://localhost:8080/",
          "height": 170
        },
        "outputId": "724e86cc-7980-4ef0-e2ff-6e47d76078f1"
      },
      "source": [
        "evaluateNetwork(Net=Net_softplus, normalize=True)"
      ],
      "execution_count": 62,
      "outputs": [
        {
          "output_type": "stream",
          "text": [
            "Files already downloaded and verified\n",
            "Files already downloaded and verified\n",
            "Epoch: 1 |Training Loss:  2.2085207825660707 |Validation Loss:  1.974759954233139\n",
            "Epoch: 2 |Training Loss:  1.7062097623825074 |Validation Loss:  1.5492500200058326\n",
            "Epoch: 3 |Training Loss:  1.4292797028064728 |Validation Loss:  1.389527882821263\n",
            "Epoch: 4 |Training Loss:  1.2724703412532807 |Validation Loss:  1.2609665940363948\n",
            "Epoch: 5 |Training Loss:  1.151931735610962 |Validation Loss:  1.1977429740345136\n",
            "Training time: 730.3430860042572\n",
            "Accuracy of the network on the test images: 58 %\n"
          ],
          "name": "stdout"
        }
      ]
    },
    {
      "cell_type": "markdown",
      "metadata": {
        "id": "xXppVcEnQSD0",
        "colab_type": "text"
      },
      "source": [
        "# 7) Effect of Momentum on SGD"
      ]
    },
    {
      "cell_type": "markdown",
      "metadata": {
        "id": "FXjKu0c6QpDP",
        "colab_type": "text"
      },
      "source": [
        "### without momentum"
      ]
    },
    {
      "cell_type": "code",
      "metadata": {
        "id": "bNOwKQ1NSi0x",
        "colab_type": "code",
        "colab": {
          "base_uri": "https://localhost:8080/",
          "height": 170
        },
        "outputId": "400f6cf6-39f0-46b8-d023-cd8361c1fc48"
      },
      "source": [
        "evaluateNetwork(Net=Net1, normalize=True, momentum_=0)"
      ],
      "execution_count": 66,
      "outputs": [
        {
          "output_type": "stream",
          "text": [
            "Files already downloaded and verified\n",
            "Files already downloaded and verified\n",
            "Epoch: 1 |Training Loss:  2.206315065193176 |Validation Loss:  1.9573718187527154\n",
            "Epoch: 2 |Training Loss:  1.7846874520301819 |Validation Loss:  1.6372513397813986\n",
            "Epoch: 3 |Training Loss:  1.5707276392936707 |Validation Loss:  1.5043304583515984\n",
            "Epoch: 4 |Training Loss:  1.434236606168747 |Validation Loss:  1.3782472157249817\n",
            "Epoch: 5 |Training Loss:  1.327245115852356 |Validation Loss:  1.2810725533543303\n",
            "Training time: 267.7429630756378\n",
            "Accuracy of the network on the test images: 53 %\n"
          ],
          "name": "stdout"
        }
      ]
    },
    {
      "cell_type": "markdown",
      "metadata": {
        "id": "vclgzMW2TRmL",
        "colab_type": "text"
      },
      "source": [
        "### with momentum"
      ]
    },
    {
      "cell_type": "code",
      "metadata": {
        "id": "amOUi2J8TaQ5",
        "colab_type": "code",
        "colab": {
          "base_uri": "https://localhost:8080/",
          "height": 170
        },
        "outputId": "6f160058-deff-47ad-eba5-91cc4531af34"
      },
      "source": [
        "evaluateNetwork(Net=Net1, normalize=True)"
      ],
      "execution_count": 68,
      "outputs": [
        {
          "output_type": "stream",
          "text": [
            "Files already downloaded and verified\n",
            "Files already downloaded and verified\n",
            "Epoch: 1 |Training Loss:  1.6441562950611115 |Validation Loss:  1.3787087573410985\n",
            "Epoch: 2 |Training Loss:  1.1420481600284575 |Validation Loss:  1.033905130605728\n",
            "Epoch: 3 |Training Loss:  0.915047332572937 |Validation Loss:  0.9433187644321698\n",
            "Epoch: 4 |Training Loss:  0.7774663432598115 |Validation Loss:  0.8638745463503816\n",
            "Epoch: 5 |Training Loss:  0.6579337474942207 |Validation Loss:  0.8205470999780173\n",
            "Training time: 268.9390833377838\n",
            "Accuracy of the network on the test images: 71 %\n"
          ],
          "name": "stdout"
        }
      ]
    }
  ]
}